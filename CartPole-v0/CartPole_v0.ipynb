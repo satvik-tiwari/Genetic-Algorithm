{
 "cells": [
  {
   "cell_type": "code",
   "execution_count": 1,
   "metadata": {
    "collapsed": true
   },
   "outputs": [],
   "source": [
    "import gym\n",
    "import random\n",
    "import numpy as np\n",
    "from random import randint\n",
    "from statistics import mean, median\n",
    "from collections import Counter\n",
    "import matplotlib.pyplot as plt"
   ]
  },
  {
   "cell_type": "code",
   "execution_count": 2,
   "metadata": {
    "collapsed": true
   },
   "outputs": [],
   "source": [
    "env = gym.make(\"CartPole-v0\")\n",
    "env.reset()\n",
    "goal_steps = 200\n",
    "score_requirement = 50\n",
    "initial_games = 10000"
   ]
  },
  {
   "cell_type": "code",
   "execution_count": 3,
   "metadata": {
    "collapsed": true
   },
   "outputs": [],
   "source": [
    "def create_data():\n",
    "    training_data, scores, accepted_scores = [], [], []\n",
    "    for _ in range(initial_games):\n",
    "        score = 0\n",
    "        game_memory, prev_observation = [], []\n",
    "        for _ in range(goal_steps):\n",
    "            action = random.randrange(0,2)\n",
    "            observation, reward, done, info = env.step(action)\n",
    "            \n",
    "            if len(prev_observation) > 0:\n",
    "                game_memory.append([prev_observation, action])\n",
    "                \n",
    "            prev_observation = observation\n",
    "            score += reward\n",
    "            \n",
    "            if done:\n",
    "                break\n",
    "            \n",
    "        if score >= score_requirement:\n",
    "            accepted_scores.append(score)\n",
    "            for data in game_memory:\n",
    "                training_data.append(data)\n",
    "                    \n",
    "        env.reset()        \n",
    "        scores.append(score)\n",
    "       \n",
    "    print('Average accepted score:', mean(accepted_scores))\n",
    "    print('Median accepted score:', median(accepted_scores))\n",
    "    print(Counter(accepted_scores))\n",
    "        \n",
    "    return training_data"
   ]
  },
  {
   "cell_type": "code",
   "execution_count": 4,
   "metadata": {
    "collapsed": true
   },
   "outputs": [],
   "source": [
    "def create_initial_pop(pop_size):\n",
    "    initial_pop = np.random.uniform(low = -3.0, high = 3.0, size = pop_size)\n",
    "    print('Initial Population:\\n{}'.format(initial_pop))\n",
    "    return initial_pop"
   ]
  },
  {
   "cell_type": "code",
   "execution_count": 5,
   "metadata": {
    "collapsed": true
   },
   "outputs": [],
   "source": [
    "def sigmoid(z):\n",
    "    return 1/(1+np.exp(-z))"
   ]
  },
  {
   "cell_type": "code",
   "execution_count": 6,
   "metadata": {
    "collapsed": true
   },
   "outputs": [],
   "source": [
    "def predict(X):\n",
    "    pred = np.empty((X.shape[0], 1))\n",
    "    for i in range(X.shape[0]):\n",
    "        if X[i] >= 0.5:\n",
    "            pred[i] = 0\n",
    "        else:\n",
    "            pred[i] = 1\n",
    "    return pred    "
   ]
  },
  {
   "cell_type": "code",
   "execution_count": 7,
   "metadata": {
    "collapsed": true
   },
   "outputs": [],
   "source": [
    "def cal_fitness(population, X, y, pop_size):\n",
    "    fitness = np.empty((pop_size[0], 1))\n",
    "    for i in range(pop_size[0]):\n",
    "        hx  = X@(population[i]).T\n",
    "        fitness[i][0] = np.sum(hx)\n",
    "        \n",
    "    return fitness"
   ]
  },
  {
   "cell_type": "code",
   "execution_count": 8,
   "metadata": {
    "collapsed": true
   },
   "outputs": [],
   "source": [
    "def selection(population, fitness, num_parents):\n",
    "    fitness = list(fitness)\n",
    "    parents = np.empty((num_parents, population.shape[1]))\n",
    "    for i in range(num_parents):\n",
    "        max_fitness_idx = np.where(fitness == np.max(fitness))\n",
    "        parents[i,:] = population[max_fitness_idx[0][0], :]\n",
    "        fitness[max_fitness_idx[0][0]] = -999999\n",
    "    return parents"
   ]
  },
  {
   "cell_type": "code",
   "execution_count": 9,
   "metadata": {
    "collapsed": true
   },
   "outputs": [],
   "source": [
    "def crossover(parents, num_offsprings):\n",
    "    offsprings = np.empty((num_offsprings, parents.shape[1]))\n",
    "    crossover_point = int(parents.shape[1]/2)\n",
    "    crossover_rate = 0.8\n",
    "    i=0\n",
    "    while (parents.shape[0] < num_offsprings):\n",
    "        parent1_index = i%parents.shape[0]\n",
    "        parent2_index = (i+1)%parents.shape[0]\n",
    "        x = random.random()\n",
    "        if x > crossover_rate:\n",
    "            continue\n",
    "        parent1_index = i%parents.shape[0]\n",
    "        parent2_index = (i+1)%parents.shape[0]\n",
    "        offsprings[i,0:crossover_point] = parents[parent1_index,0:crossover_point]\n",
    "        offsprings[i,crossover_point:] = parents[parent2_index,crossover_point:]\n",
    "        i=+1\n",
    "    return offsprings    \n"
   ]
  },
  {
   "cell_type": "code",
   "execution_count": 10,
   "metadata": {
    "collapsed": true
   },
   "outputs": [],
   "source": [
    "def mutation(offsprings):\n",
    "    mutants = np.empty((offsprings.shape))\n",
    "    mutation_rate = 0.4\n",
    "    for i in range(mutants.shape[0]):\n",
    "        random_value = random.random()\n",
    "        mutants[i,:] = offsprings[i,:]\n",
    "        if random_value > mutation_rate:\n",
    "            continue\n",
    "        int_random_value = randint(0,offsprings.shape[1]-1)    \n",
    "        mutants[i,int_random_value] += np.random.uniform(-1.0, 1.0, 1)\n",
    "        \n",
    "    return mutants\n",
    "    "
   ]
  },
  {
   "cell_type": "code",
   "execution_count": 118,
   "metadata": {},
   "outputs": [],
   "source": [
    "def GA_model(training_data):\n",
    "    X = np.array([i[0] for i in training_data])\n",
    "    y = np.array([i[1] for i in training_data]).reshape(-1, 1)\n",
    "    fitness_history, weights = [], []\n",
    "    num_solutions = 8\n",
    "    pop_size = (num_solutions, X.shape[1])\n",
    "    num_parents = int(pop_size[0]/2)\n",
    "    num_offsprings = pop_size[0] - num_parents \n",
    "    num_generations = 60\n",
    "    \n",
    "    population = create_initial_pop(pop_size)\n",
    "    \n",
    "    for i in range(num_generations):\n",
    "        fitness = cal_fitness(population, X, y, pop_size)\n",
    "        fitness_history.append(fitness)\n",
    "        parents = selection(population, fitness, num_parents)\n",
    "        offsprings = crossover(parents, num_offsprings)\n",
    "        mutants = mutation(offsprings)\n",
    "        population[0:parents.shape[0], :] = parents\n",
    "        population[parents.shape[0]:, :] = mutants\n",
    "    \n",
    "    fitness_last_gen = cal_fitness(population, X, y, pop_size)\n",
    "    max_fitness = np.where(fitness_last_gen == np.max(fitness_last_gen))\n",
    "    weights.append(population[max_fitness[0][0],:])\n",
    "    return weights, fitness_history, num_generations"
   ]
  },
  {
   "cell_type": "code",
   "execution_count": 119,
   "metadata": {},
   "outputs": [],
   "source": [
    "training_data = create_data()"
   ]
  },
  {
   "cell_type": "code",
   "execution_count": 135,
   "metadata": {},
   "outputs": [
    {
     "name": "stdout",
     "output_type": "stream",
     "text": [
      "Initial Population:\n",
      "[[-1.31083136  1.04555075 -2.42149709 -2.62211897]\n",
      " [ 2.04888369  1.27104369 -2.13124189 -1.18396978]\n",
      " [ 0.86216552  2.47219001 -1.82061028 -2.93431775]\n",
      " [ 2.29298034  0.59839055 -2.53801776 -1.9615763 ]\n",
      " [-2.780734   -0.58975404 -1.32656042  0.88197146]\n",
      " [-0.19364708 -1.37167922 -0.49940276 -0.69836454]\n",
      " [-2.14847083 -0.21368096 -2.68013172 -0.16231674]\n",
      " [ 0.721753   -0.19522049  1.51743169 -0.19506849]]\n",
      "Weights: [array([ 47.0311387 ,  58.78456129,   7.67296116, -22.73499841])]\n"
     ]
    }
   ],
   "source": [
    "weights, fitness_history, num_generations = GA_model(training_data)\n",
    "print('Weights: {}'.format(weights))\n",
    "weights = np.asarray(weights)"
   ]
  },
  {
   "cell_type": "code",
   "execution_count": 136,
   "metadata": {},
   "outputs": [
    {
     "data": {
      "image/png": "[encoded data removed]",
      "text/plain": [
       "<matplotlib.figure.Figure at 0x2a449a5c160>"
      ]
     },
     "metadata": {},
     "output_type": "display_data"
    }
   ],
   "source": [
    "fitness_history_mean = [np.mean(fitness) for fitness in fitness_history]\n",
    "fitness_history_max = [np.max(fitness) for fitness in fitness_history]\n",
    "plt.plot(list(range(num_generations)), fitness_history_mean, label = 'Mean Fitness')\n",
    "plt.plot(list(range(num_generations)), fitness_history_max, label = 'Max Fitness')\n",
    "plt.legend()\n",
    "plt.title('Fitness through the generations')\n",
    "plt.xlabel('Generations')\n",
    "plt.ylabel('Fitness')\n",
    "plt.show()"
   ]
  },
  {
   "cell_type": "code",
   "execution_count": 137,
   "metadata": {
    "collapsed": true
   },
   "outputs": [],
   "source": [
    "def GA_model_predict(test_data, weights):\n",
    "    hx = sigmoid(test_data@(weights).T)\n",
    "    pred = predict(hx)\n",
    "    pred = pred.astype(int)\n",
    "    return pred[0][0]"
   ]
  },
  {
   "cell_type": "code",
   "execution_count": 138,
   "metadata": {},
   "outputs": [
    {
     "name": "stdout",
     "output_type": "stream",
     "text": [
      "Average Score: 97.4\n",
      "Average Score: None\n",
      "50\n",
      "[61.0, 75.0, 109.0, 37.0, 200.0, 39.0, 39.0, 121.0, 140.0, 153.0]\n"
     ]
    }
   ],
   "source": [
    "scores, choices = [], []\n",
    "for each_game in range(10):\n",
    "    score = 0\n",
    "    game_memory, prev_obs = [], []\n",
    "    env.reset()\n",
    "    for _ in range(goal_steps):\n",
    "        env.render()\n",
    "        if len(prev_obs) == 0:\n",
    "            action = random.randrange(0,2)\n",
    "        else:\n",
    "            action = GA_model_predict(prev_obs, weights)\n",
    "        choices.append(action)    \n",
    "        new_observation, reward, done, info = env.step(action)\n",
    "        prev_obs = new_observation\n",
    "        game_memory.append([new_observation, action])\n",
    "        score += reward\n",
    "        if done:\n",
    "            break\n",
    "    scores.append(score)        \n",
    "print('Average Score:',print('Average Score:',np.mean(scores)))\n",
    "print(score_requirement)\n",
    "print(scores)\n",
    "    "
   ]
  },
  {
   "cell_type": "code",
   "execution_count": 139,
   "metadata": {
    "collapsed": true
   },
   "outputs": [],
   "source": [
    "env.close()"
   ]
  }
 ],
 "metadata": {
  "kernelspec": {
   "display_name": "Python 3",
   "language": "python",
   "name": "python3"
  },
  "language_info": {
   "codemirror_mode": {
    "name": "ipython",
    "version": 3
   },
   "file_extension": ".py",
   "mimetype": "text/x-python",
   "name": "python",
   "nbconvert_exporter": "python",
   "pygments_lexer": "ipython3",
   "version": "3.6.3"
  }
 },
 "nbformat": 4,
 "nbformat_minor": 2
}
