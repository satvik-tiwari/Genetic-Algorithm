{
 "cells": [
  {
   "cell_type": "code",
   "execution_count": null,
   "metadata": {
    "collapsed": true
   },
   "outputs": [],
   "source": [
    "#Importing Libraries\n",
    "import numpy as np\n",
    "import pandas as pd\n",
    "import random as rd\n",
    "from random import randint\n",
    "import matplotlib.pyplot as plt"
   ]
  },
  {
   "cell_type": "code",
   "execution_count": 55,
   "metadata": {},
   "outputs": [
    {
     "name": "stdout",
     "output_type": "stream",
     "text": [
      "The list is as follows:\n",
      "Item No.   Weight   Value\n",
      "1          3         723\n",
      "\n",
      "2          10         696\n",
      "\n",
      "3          12         129\n",
      "\n",
      "4          12         358\n",
      "\n",
      "5          11         493\n",
      "\n",
      "6          5         296\n",
      "\n",
      "7          3         360\n",
      "\n",
      "8          6         725\n",
      "\n",
      "9          4         311\n",
      "\n",
      "10          6         425\n",
      "\n"
     ]
    }
   ],
   "source": [
    "item_number = np.arange(1,11)\n",
    "weight = np.random.randint(1, 15, size = 10)\n",
    "value = np.random.randint(10, 750, size = 10)\n",
    "knapsack_threshold = 35    #Maximum weight that the bag of thief can hold \n",
    "print('The list is as follows:')\n",
    "print('Item No.   Weight   Value')\n",
    "for i in range(item_number.shape[0]):\n",
    "    print('{0}          {1}         {2}\\n'.format(item_number[i], weight[i], value[i]))\n"
   ]
  },
  {
   "cell_type": "code",
   "execution_count": 56,
   "metadata": {},
   "outputs": [
    {
     "name": "stdout",
     "output_type": "stream",
     "text": [
      "Population size = (8, 10)\n",
      "Initial popultaion: \n",
      "[[1 1 1 0 0 0 0 1 0 1]\n",
      " [1 0 0 1 0 1 1 1 1 1]\n",
      " [0 1 1 0 0 1 1 0 0 1]\n",
      " [1 0 0 0 0 1 0 0 0 0]\n",
      " [1 0 0 1 1 1 1 0 1 0]\n",
      " [1 0 1 1 0 0 0 0 1 1]\n",
      " [0 1 0 1 0 0 0 1 1 1]\n",
      " [1 0 0 1 0 0 0 0 1 0]]\n"
     ]
    }
   ],
   "source": [
    "solutions_per_pop = 8\n",
    "pop_size = (solutions_per_pop, item_number.shape[0])\n",
    "print('Population size = {}'.format(pop_size))\n",
    "\n",
    "initial_population = np.random.randint(2, size = pop_size)\n",
    "initial_population = initial_population.astype(int)\n",
    "num_generations = 10\n",
    "print('Initial popultaion: \\n{}'.format(initial_population))        "
   ]
  },
  {
   "cell_type": "code",
   "execution_count": 58,
   "metadata": {
    "collapsed": true
   },
   "outputs": [],
   "source": [
    "def cal_fitness(weight, value, population, threshold):\n",
    "    fitness = np.empty(population.shape[0])\n",
    "    for i in range(population.shape[0]):\n",
    "        S1 = np.sum(population[i] * value)\n",
    "        S2 = np.sum(population[i] * weight)\n",
    "        if S2 <= threshold:\n",
    "            fitness[i] = S1\n",
    "        else :\n",
    "            fitness[i] = 0 \n",
    "    return fitness.astype(int)        "
   ]
  },
  {
   "cell_type": "code",
   "execution_count": 59,
   "metadata": {
    "collapsed": true
   },
   "outputs": [],
   "source": [
    "def selection(fitness, num_parents, population):\n",
    "    fitness = list(fitness)\n",
    "    parents = np.empty((num_parents, population.shape[1]))\n",
    "    for i in range(num_parents):\n",
    "        max_fitness_idx = np.where(fitness == np.max(fitness))\n",
    "        parents[i,:] = population[max_fitness_idx[0][0], :]\n",
    "        fitness[max_fitness_idx[0][0]] = -999999\n",
    "    return parents"
   ]
  },
  {
   "cell_type": "code",
   "execution_count": 60,
   "metadata": {
    "collapsed": true
   },
   "outputs": [],
   "source": [
    "def crossover(parents, num_offsprings):\n",
    "    offsprings = np.empty((num_offsprings, parents.shape[1]))\n",
    "    crossover_point = int(parents.shape[1]/2)\n",
    "    crossover_rate = 0.8\n",
    "    i=0\n",
    "    while (parents.shape[0] < num_offsprings):\n",
    "        parent1_index = i%parents.shape[0]\n",
    "        parent2_index = (i+1)%parents.shape[0]\n",
    "        x = rd.random()\n",
    "        if x > crossover_rate:\n",
    "            continue\n",
    "        parent1_index = i%parents.shape[0]\n",
    "        parent2_index = (i+1)%parents.shape[0]\n",
    "        offsprings[i,0:crossover_point] = parents[parent1_index,0:crossover_point]\n",
    "        offsprings[i,crossover_point:] = parents[parent2_index,crossover_point:]\n",
    "        i=+1\n",
    "    return offsprings    \n"
   ]
  },
  {
   "cell_type": "code",
   "execution_count": 61,
   "metadata": {
    "collapsed": true
   },
   "outputs": [],
   "source": [
    "def mutation(offsprings):\n",
    "    mutants = np.empty((offsprings.shape))\n",
    "    mutation_rate = 0.4\n",
    "    for i in range(mutants.shape[0]):\n",
    "        random_value = rd.random()\n",
    "        mutants[i,:] = offsprings[i,:]\n",
    "        if random_value > mutation_rate:\n",
    "            continue\n",
    "        int_random_value = randint(0,offsprings.shape[1]-1)    \n",
    "        if mutants[i,int_random_value] == 0 :\n",
    "            mutants[i,int_random_value] = 1\n",
    "        else :\n",
    "            mutants[i,int_random_value] = 0\n",
    "    return mutants   \n",
    "    "
   ]
  },
  {
   "cell_type": "code",
   "execution_count": 62,
   "metadata": {
    "collapsed": true
   },
   "outputs": [],
   "source": [
    "def optimize(weight, value, population, pop_size, num_generations, threshold):\n",
    "    parameters, fitness_history = [], []\n",
    "    num_parents = int(pop_size[0]/2)\n",
    "    num_offsprings = pop_size[0] - num_parents \n",
    "    for i in range(num_generations):\n",
    "        \n",
    "        fitness = cal_fitness(weight, value, population, threshold)\n",
    "       \n",
    "        fitness_history.append(fitness)\n",
    "        parents = selection(fitness, num_parents, population)\n",
    "        offsprings = crossover(parents, num_offsprings)\n",
    "        mutants = mutation(offsprings)\n",
    "        population[0:parents.shape[0], :] = parents\n",
    "        population[parents.shape[0]:, :] = mutants\n",
    "        \n",
    "    print('Last generation: \\n{}\\n'.format(population)) \n",
    "    fitness_last_gen = cal_fitness(weight, value, population, threshold)      \n",
    "    print('Fitness of the last generation: \\n{}\\n'.format(fitness_last_gen))\n",
    "    max_fitness = np.where(fitness_last_gen == np.max(fitness_last_gen))\n",
    "    parameters.append(population[max_fitness[0][0],:])\n",
    "    return parameters, fitness_history"
   ]
  },
  {
   "cell_type": "code",
   "execution_count": 63,
   "metadata": {},
   "outputs": [
    {
     "name": "stdout",
     "output_type": "stream",
     "text": [
      "Last generation: \n",
      "[[1 0 0 1 0 1 1 1 1 0]\n",
      " [1 0 0 1 0 1 1 1 1 0]\n",
      " [1 0 0 1 0 1 1 1 1 0]\n",
      " [1 0 0 1 0 1 1 1 1 0]\n",
      " [1 0 0 1 0 1 1 1 1 0]\n",
      " [1 0 1 1 0 1 1 1 1 0]\n",
      " [1 0 0 1 0 1 1 1 1 0]\n",
      " [1 0 0 1 1 1 1 1 1 0]]\n",
      "\n",
      "Fitness of the last generation: \n",
      "[2773 2773 2773 2773 2773    0 2773    0]\n",
      "\n",
      "The optimized parameters for the given inputs are: \n",
      "[array([1, 0, 0, 1, 0, 1, 1, 1, 1, 0])]\n"
     ]
    }
   ],
   "source": [
    "parameters, fitness_history = optimize(weight, value, initial_population, pop_size, num_generations, knapsack_threshold)\n",
    "print('The optimized parameters for the given inputs are: \\n{}'.format(parameters))\n",
    "print('The items that the thief should take are:\\n{}',format(for i in))"
   ]
  },
  {
   "cell_type": "code",
   "execution_count": 65,
   "metadata": {},
   "outputs": [
    {
     "data": {
      "image/png": "[encoded data removed]",
      "text/plain": [
       "<matplotlib.figure.Figure at 0x285d7b25550>"
      ]
     },
     "metadata": {},
     "output_type": "display_data"
    },
    {
     "name": "stdout",
     "output_type": "stream",
     "text": [
      "(10, 8)\n"
     ]
    }
   ],
   "source": [
    "fitness_history_mean = [np.mean(fitness) for fitness in fitness_history]\n",
    "fitness_history_max = [np.max(fitness) for fitness in fitness_history]\n",
    "plt.plot(list(range(num_generations)), fitness_history_mean, label = 'Mean Fitness')\n",
    "plt.plot(list(range(num_generations)), fitness_history_max, label = 'Max Fitness')\n",
    "plt.legend()\n",
    "plt.title('Fitness through the generations')\n",
    "plt.xlabel('Generations')\n",
    "plt.ylabel('Fitness')\n",
    "plt.show()\n",
    "print(np.asarray(fitness_history).shape\n",
    "      "
   ]
  }
 ],
 "metadata": {
  "kernelspec": {
   "display_name": "Python 3",
   "language": "python",
   "name": "python3"
  },
  "language_info": {
   "codemirror_mode": {
    "name": "ipython",
    "version": 3
   },
   "file_extension": ".py",
   "mimetype": "text/x-python",
   "name": "python",
   "nbconvert_exporter": "python",
   "pygments_lexer": "ipython3",
   "version": "3.6.3"
  }
 },
 "nbformat": 4,
 "nbformat_minor": 2
}
