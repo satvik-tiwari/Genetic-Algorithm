{
  "nbformat": 4,
  "nbformat_minor": 0,
  "metadata": {
    "colab": {
      "name": "GA_knapsac_problem.ipynb",
      "version": "0.3.2",
      "provenance": [],
      "collapsed_sections": []
    },
    "kernelspec": {
      "name": "python3",
      "display_name": "Python 3"
    }
  },
  "cells": [
    {
      "metadata": {
        "id": "o4rc-OjopENR",
        "colab_type": "code",
        "colab": {}
      },
      "cell_type": "code",
      "source": [
        "#Importing Libraries\n",
        "import numpy as np\n",
        "import pandas as pd\n",
        "import random as rd\n",
        "from random import randint\n",
        "import matplotlib.pyplot as plt"
      ],
      "execution_count": 0,
      "outputs": []
    },
    {
      "metadata": {
        "id": "PnN0PnG5pJRt",
        "colab_type": "code",
        "outputId": "7d0d73e1-f61f-4904-c304-72db0244dfc2",
        "colab": {
          "base_uri": "https://localhost:8080/",
          "height": 428
        }
      },
      "cell_type": "code",
      "source": [
        "item_number = np.arange(1,11)\n",
        "weight = np.random.randint(1, 15, size = 10)\n",
        "value = np.random.randint(10, 750, size = 10)\n",
        "knapsack_threshold = 35    #Maximum weight that the bag of thief can hold \n",
        "print('The list is as follows:')\n",
        "print('Item No.   Weight   Value')\n",
        "for i in range(item_number.shape[0]):\n",
        "    print('{0}          {1}         {2}\\n'.format(item_number[i], weight[i], value[i]))\n"
      ],
      "execution_count": 12,
      "outputs": [
        {
          "output_type": "stream",
          "text": [
            "The list is as follows:\n",
            "Item No.   Weight   Value\n",
            "1          14         224\n",
            "\n",
            "2          9         51\n",
            "\n",
            "3          11         428\n",
            "\n",
            "4          14         296\n",
            "\n",
            "5          14         430\n",
            "\n",
            "6          7         228\n",
            "\n",
            "7          12         656\n",
            "\n",
            "8          1         401\n",
            "\n",
            "9          13         137\n",
            "\n",
            "10          2         364\n",
            "\n"
          ],
          "name": "stdout"
        }
      ]
    },
    {
      "metadata": {
        "id": "VWrlzWjNpMIl",
        "colab_type": "code",
        "outputId": "61a97d63-47e6-4a4f-b84b-b0dfe64b4155",
        "colab": {
          "base_uri": "https://localhost:8080/",
          "height": 204
        }
      },
      "cell_type": "code",
      "source": [
        "solutions_per_pop = 8\n",
        "pop_size = (solutions_per_pop, item_number.shape[0])\n",
        "print('Population size = {}'.format(pop_size))\n",
        "initial_population = np.random.randint(2, size = pop_size)\n",
        "initial_population = initial_population.astype(int)\n",
        "num_generations = 50\n",
        "print('Initial popultaion: \\n{}'.format(initial_population))        \n",
        "        \n"
      ],
      "execution_count": 13,
      "outputs": [
        {
          "output_type": "stream",
          "text": [
            "Population size = (8, 10)\n",
            "Initial popultaion: \n",
            "[[1 0 0 1 1 0 0 1 0 0]\n",
            " [0 1 0 1 1 0 1 0 1 0]\n",
            " [0 0 0 1 0 1 1 1 1 0]\n",
            " [1 1 1 1 1 0 1 0 1 0]\n",
            " [0 0 0 0 0 0 1 1 0 0]\n",
            " [0 1 1 0 0 0 1 1 1 1]\n",
            " [0 1 1 0 0 1 1 0 1 1]\n",
            " [0 1 0 0 0 1 0 0 1 0]]\n"
          ],
          "name": "stdout"
        }
      ]
    },
    {
      "metadata": {
        "id": "1N61GA_NpO2I",
        "colab_type": "code",
        "colab": {}
      },
      "cell_type": "code",
      "source": [
        "def cal_fitness(weight, value, population, threshold):\n",
        "    fitness = np.empty(population.shape[0])\n",
        "    for i in range(population.shape[0]):\n",
        "        S1 = np.sum(population[i] * value)\n",
        "        S2 = np.sum(population[i] * weight)\n",
        "        if S2 <= threshold:\n",
        "            fitness[i] = S1\n",
        "        else :\n",
        "            fitness[i] = 0 \n",
        "    return fitness.astype(int)        "
      ],
      "execution_count": 0,
      "outputs": []
    },
    {
      "metadata": {
        "id": "lH47NIJHpSE8",
        "colab_type": "code",
        "colab": {}
      },
      "cell_type": "code",
      "source": [
        "def selection(fitness, num_parents, population):\n",
        "    fitness = list(fitness)\n",
        "    parents = np.empty((num_parents, population.shape[1]))\n",
        "    for i in range(num_parents):\n",
        "        max_fitness_idx = np.where(fitness == np.max(fitness))\n",
        "        parents[i,:] = population[max_fitness_idx[0][0], :]\n",
        "        fitness[max_fitness_idx[0][0]] = -999999\n",
        "    return parents"
      ],
      "execution_count": 0,
      "outputs": []
    },
    {
      "metadata": {
        "id": "LBM2-_eTpUHs",
        "colab_type": "code",
        "colab": {}
      },
      "cell_type": "code",
      "source": [
        "def crossover(parents, num_offsprings):\n",
        "    offsprings = np.empty((num_offsprings, parents.shape[1]))\n",
        "    crossover_point = int(parents.shape[1]/2)\n",
        "    crossover_rate = 0.8\n",
        "    i=0\n",
        "    while (parents.shape[0] < num_offsprings):\n",
        "        parent1_index = i%parents.shape[0]\n",
        "        parent2_index = (i+1)%parents.shape[0]\n",
        "        x = rd.random()\n",
        "        if x > crossover_rate:\n",
        "            continue\n",
        "        parent1_index = i%parents.shape[0]\n",
        "        parent2_index = (i+1)%parents.shape[0]\n",
        "        offsprings[i,0:crossover_point] = parents[parent1_index,0:crossover_point]\n",
        "        offsprings[i,crossover_point:] = parents[parent2_index,crossover_point:]\n",
        "        i=+1\n",
        "    return offsprings    \n"
      ],
      "execution_count": 0,
      "outputs": []
    },
    {
      "metadata": {
        "id": "NEyMFzAcpWf1",
        "colab_type": "code",
        "colab": {}
      },
      "cell_type": "code",
      "source": [
        "def mutation(offsprings):\n",
        "    mutants = np.empty((offsprings.shape))\n",
        "    mutation_rate = 0.4\n",
        "    for i in range(mutants.shape[0]):\n",
        "        random_value = rd.random()\n",
        "        mutants[i,:] = offsprings[i,:]\n",
        "        if random_value > mutation_rate:\n",
        "            continue\n",
        "        int_random_value = randint(0,offsprings.shape[1]-1)    \n",
        "        if mutants[i,int_random_value] == 0 :\n",
        "            mutants[i,int_random_value] = 1\n",
        "        else :\n",
        "            mutants[i,int_random_value] = 0\n",
        "    return mutants   \n",
        "    "
      ],
      "execution_count": 0,
      "outputs": []
    },
    {
      "metadata": {
        "id": "ggjWc7hGpYH1",
        "colab_type": "code",
        "colab": {}
      },
      "cell_type": "code",
      "source": [
        "def optimize(weight, value, population, pop_size, num_generations, threshold):\n",
        "    parameters, fitness_history = [], []\n",
        "    num_parents = int(pop_size[0]/2)\n",
        "    num_offsprings = pop_size[0] - num_parents \n",
        "    for i in range(num_generations):\n",
        "        fitness = cal_fitness(weight, value, population, threshold)\n",
        "        fitness_history.append(fitness)\n",
        "        parents = selection(fitness, num_parents, population)\n",
        "        offsprings = crossover(parents, num_offsprings)\n",
        "        mutants = mutation(offsprings)\n",
        "        population[0:parents.shape[0], :] = parents\n",
        "        population[parents.shape[0]:, :] = mutants\n",
        "        \n",
        "    print('Last generation: \\n{}\\n'.format(population)) \n",
        "    fitness_last_gen = cal_fitness(weight, value, population, threshold)      \n",
        "    print('Fitness of the last generation: \\n{}\\n'.format(fitness_last_gen))\n",
        "    max_fitness = np.where(fitness_last_gen == np.max(fitness_last_gen))\n",
        "    parameters.append(population[max_fitness[0][0],:])\n",
        "    return parameters, fitness_history"
      ],
      "execution_count": 0,
      "outputs": []
    },
    {
      "metadata": {
        "id": "8IrOMVa4paBm",
        "colab_type": "code",
        "outputId": "395485c1-586e-454f-8423-8219a2515a9f",
        "colab": {
          "base_uri": "https://localhost:8080/",
          "height": 522
        }
      },
      "cell_type": "code",
      "source": [
        "parameters, fitness_history = optimize(weight, value, initial_population, pop_size, num_generations, knapsack_threshold)\n",
        "print('The optimized parameters for the given inputs are: \\n{}'.format(parameters))\n",
        "selected_items = item_number * parameters\n",
        "print('\\nSelected items that will maximize the knapsack without breaking it:')\n",
        "for i in range(selected_items.shape[1]):\n",
        "  if selected_items[0][i] != 0:\n",
        "     print('{}\\n'.format(selected_items[0][i]))"
      ],
      "execution_count": 19,
      "outputs": [
        {
          "output_type": "stream",
          "text": [
            "Last generation: \n",
            "[[0 0 0 0 0 1 1 1 1 1]\n",
            " [0 0 0 0 0 1 1 1 1 1]\n",
            " [0 0 0 0 0 1 1 1 1 1]\n",
            " [0 0 0 0 0 1 1 1 1 1]\n",
            " [0 0 0 0 0 1 1 1 1 1]\n",
            " [0 0 0 0 0 1 1 1 1 1]\n",
            " [0 0 0 0 0 1 1 1 1 1]\n",
            " [0 0 0 0 0 1 1 1 1 1]]\n",
            "\n",
            "Fitness of the last generation: \n",
            "[1786 1786 1786 1786 1786 1786 1786 1786]\n",
            "\n",
            "The optimized parameters for the given inputs are: \n",
            "[array([0, 0, 0, 0, 0, 1, 1, 1, 1, 1])]\n",
            "\n",
            "Selected items that will maximize the knapsack without breaking it:\n",
            "6\n",
            "\n",
            "7\n",
            "\n",
            "8\n",
            "\n",
            "9\n",
            "\n",
            "10\n",
            "\n"
          ],
          "name": "stdout"
        }
      ]
    },
    {
      "metadata": {
        "id": "hzXYxU2dpcQx",
        "colab_type": "code",
        "outputId": "36a30e92-9155-460a-9aa6-3679b6a1507b",
        "colab": {
          "base_uri": "https://localhost:8080/",
          "height": 376
        }
      },
      "cell_type": "code",
      "source": [
        "\n",
        "fitness_history_mean = [np.mean(fitness) for fitness in fitness_history]\n",
        "fitness_history_max = [np.max(fitness) for fitness in fitness_history]\n",
        "plt.plot(list(range(num_generations)), fitness_history_mean, label = 'Mean Fitness')\n",
        "plt.plot(list(range(num_generations)), fitness_history_max, label = 'Max Fitness')\n",
        "plt.legend()\n",
        "plt.title('Fitness through the generations')\n",
        "plt.xlabel('Generations')\n",
        "plt.ylabel('Fitness')\n",
        "plt.show()"
      ],
      "execution_count": 20,
      "outputs": [
        {
          "output_type": "display_data",
          "data": {
            "image/png": "[encoded data removed]",
            "text/plain": [
              "<Figure size 576x396 with 1 Axes>"
            ]
          },
          "metadata": {
            "tags": []
          }
        }
      ]
    }
  ]
}